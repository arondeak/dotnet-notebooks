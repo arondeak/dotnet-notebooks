{
 "cells": [
  {
   "cell_type": "code",
   "execution_count": 1,
   "metadata": {
    "dotnet_interactive": {
     "language": "csharp"
    },
    "polyglot_notebook": {
     "kernelName": "csharp"
    },
    "vscode": {
     "languageId": "polyglot-notebook"
    }
   },
   "outputs": [],
   "source": [
    "public record struct Planet(string Name, float Mass, float Diameter);"
   ]
  },
  {
   "cell_type": "code",
   "execution_count": 18,
   "metadata": {
    "dotnet_interactive": {
     "language": "csharp"
    },
    "polyglot_notebook": {
     "kernelName": "csharp"
    },
    "vscode": {
     "languageId": "polyglot-notebook"
    }
   },
   "outputs": [],
   "source": [
    "using Microsoft.DotNet.Interactive.Formatting;\n",
    "using System.Linq;\n",
    "\n",
    "Formatter.Register(\n",
    "    type: typeof(List<>),\n",
    "    formatter: (o, writer) =>\n",
    "{\n",
    "    var enumerator = ((IEnumerable) o).GetEnumerator();\n",
    "\n",
    "    if (!enumerator.MoveNext())\n",
    "    {\n",
    "        writer.Write(\"No data to display.\");\n",
    "        return;\n",
    "    }\n",
    "    writer.Write(\"<table>\");\n",
    "\n",
    "    var type = enumerator.Current.GetType();\n",
    "    var properties = type.GetProperties();\n",
    "    writer.Write(\"<tr>\");\n",
    "    foreach (var prop in properties)\n",
    "    {\n",
    "        writer.Write(\"<td>\");\n",
    "        writer.Write(prop.Name);\n",
    "        writer.Write(\"</td>\");\n",
    "    }\n",
    "    writer.Write(\"</tr>\");\n",
    "\n",
    "    do\n",
    "    {\n",
    "        foreach (var prop in properties)\n",
    "        {\n",
    "            writer.Write(\"<td>\");\n",
    "            writer.Write(prop.GetValue(enumerator.Current));\n",
    "            writer.Write(\"</td>\");\n",
    "        }\n",
    "    } while (enumerator.MoveNext());\n",
    "\n",
    "    writer.WriteLine(\"</table>\");\n",
    "}, mimeType: \"text/html\");"
   ]
  },
  {
   "cell_type": "code",
   "execution_count": 2,
   "metadata": {
    "vscode": {
     "languageId": "polyglot-notebook"
    }
   },
   "outputs": [],
   "source": [
    "var earth = new Planet(\"Earth\", 5.972e24f, 12600);\n",
    "var mars = new Planet(\"Mars\", 6.22e23f, 6792);"
   ]
  },
  {
   "cell_type": "code",
   "execution_count": 15,
   "metadata": {
    "vscode": {
     "languageId": "polyglot-notebook"
    }
   },
   "outputs": [],
   "source": [
    "var planets = new List<object>() {earth, mars};"
   ]
  },
  {
   "cell_type": "code",
   "execution_count": 19,
   "metadata": {
    "vscode": {
     "languageId": "polyglot-notebook"
    }
   },
   "outputs": [
    {
     "data": {
      "text/html": [
       "<table><tr><td>Name</td><td>Mass</td><td>Diameter</td></tr></table>\n"
      ]
     },
     "metadata": {},
     "output_type": "display_data"
    }
   ],
   "source": [
    "planets"
   ]
  },
  {
   "cell_type": "code",
   "execution_count": null,
   "metadata": {
    "vscode": {
     "languageId": "polyglot-notebook"
    }
   },
   "outputs": [],
   "source": [
    "public struct PlanetStruct\n",
    "{\n",
    "    public string Name;\n",
    "    public float Mass;\n",
    "    public float Diameter;\n",
    "}"
   ]
  },
  {
   "cell_type": "code",
   "execution_count": null,
   "metadata": {
    "vscode": {
     "languageId": "polyglot-notebook"
    }
   },
   "outputs": [],
   "source": [
    "var earthStruct = new PlanetStruct{Name = \"Earth\", Mass=5.972e24f, Diameter = 12600};\n",
    "var marsStruct = new PlanetStruct{Name = \"Mars\", Mass=6.22e23f, Diameter=6792};\n",
    "var planetStructs = new[] {earthStruct, marsStruct};\n",
    "planetStructs"
   ]
  },
  {
   "cell_type": "code",
   "execution_count": null,
   "metadata": {
    "vscode": {
     "languageId": "polyglot-notebook"
    }
   },
   "outputs": [],
   "source": [
    "var d = new Dictionary<string, Planet> { {\"Mars\", mars}, {\"Earth\", earth} };\n",
    "d"
   ]
  },
  {
   "cell_type": "code",
   "execution_count": null,
   "metadata": {
    "vscode": {
     "languageId": "polyglot-notebook"
    }
   },
   "outputs": [],
   "source": [
    "#r \"nuget:Microsoft.Data.Analysis\""
   ]
  },
  {
   "cell_type": "code",
   "execution_count": null,
   "metadata": {
    "vscode": {
     "languageId": "polyglot-notebook"
    }
   },
   "outputs": [],
   "source": [
    "\n",
    "using Microsoft.Data.Analysis;\n",
    "using System.Linq;\n",
    "using Microsoft.AspNetCore.Html;"
   ]
  },
  {
   "cell_type": "code",
   "execution_count": null,
   "metadata": {
    "dotnet_interactive": {
     "language": "csharp"
    },
    "polyglot_notebook": {
     "kernelName": "csharp"
    },
    "vscode": {
     "languageId": "polyglot-notebook"
    }
   },
   "outputs": [],
   "source": [
    "earth"
   ]
  }
 ],
 "metadata": {
  "kernelspec": {
   "display_name": ".NET (C#)",
   "language": "C#",
   "name": ".net-csharp"
  },
  "language_info": {
   "file_extension": ".cs",
   "mimetype": "text/x-csharp",
   "name": "C#",
   "pygments_lexer": "csharp",
   "version": "11.0"
  }
 },
 "nbformat": 4,
 "nbformat_minor": 4
}
